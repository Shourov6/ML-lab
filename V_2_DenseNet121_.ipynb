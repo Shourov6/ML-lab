{
  "nbformat": 4,
  "nbformat_minor": 0,
  "metadata": {
    "colab": {
      "provenance": [],
      "authorship_tag": "ABX9TyORQHHvf9S+vbKYXwC0RPHc",
      "include_colab_link": true
    },
    "kernelspec": {
      "name": "python3",
      "display_name": "Python 3"
    },
    "language_info": {
      "name": "python"
    }
  },
  "cells": [
    {
      "cell_type": "markdown",
      "metadata": {
        "id": "view-in-github",
        "colab_type": "text"
      },
      "source": [
        "<a href=\"https://colab.research.google.com/github/Shourov6/ML-lab/blob/main/V_2_DenseNet121_.ipynb\" target=\"_parent\"><img src=\"https://colab.research.google.com/assets/colab-badge.svg\" alt=\"Open In Colab\"/></a>"
      ]
    },
    {
      "cell_type": "code",
      "execution_count": null,
      "metadata": {
        "colab": {
          "base_uri": "https://localhost:8080/"
        },
        "id": "e9O4Xh2S-e2u",
        "outputId": "127c963a-28ee-4619-c2d4-b5d07807bc24"
      },
      "outputs": [
        {
          "output_type": "stream",
          "name": "stdout",
          "text": [
            "Drive already mounted at /content/drive; to attempt to forcibly remount, call drive.mount(\"/content/drive\", force_remount=True).\n"
          ]
        }
      ],
      "source": [
        "# STEP 1: Mount Google Drive\n",
        "from google.colab import drive\n",
        "drive.mount('/content/drive')\n"
      ]
    },
    {
      "cell_type": "code",
      "source": [
        "# STEP 2: Set dataset zip path\n",
        "dataset_zip_path = '/content/drive/MyDrive/Breast Cancer/BCI_dataset.zip'"
      ],
      "metadata": {
        "id": "3otZPQOTAdYh"
      },
      "execution_count": null,
      "outputs": []
    },
    {
      "cell_type": "code",
      "source": [
        "# STEP 3: Unzip if not already\n",
        "import os, zipfile\n",
        "dataset_folder = '/content/BCI_dataset'\n",
        "if not os.path.exists(dataset_folder):\n",
        "    with zipfile.ZipFile(dataset_zip_path, 'r') as zip_ref:\n",
        "        zip_ref.extractall('/content/')\n",
        "print(\"✅ Dataset unzipped.\")"
      ],
      "metadata": {
        "colab": {
          "base_uri": "https://localhost:8080/"
        },
        "id": "bwx82SjRAfb5",
        "outputId": "3a91697f-2914-4ada-da91-f0c6b402c9c0"
      },
      "execution_count": null,
      "outputs": [
        {
          "output_type": "stream",
          "name": "stdout",
          "text": [
            "✅ Dataset unzipped.\n"
          ]
        }
      ]
    },
    {
      "cell_type": "code",
      "source": [
        "# STEP 4: Dataset Class for Histopathology\n",
        "from torch.utils.data import Dataset\n",
        "from PIL import Image\n",
        "class HistopathologyDataset(Dataset):\n",
        "    def __init__(self, folder_path, transform=None):\n",
        "        self.folder_path = folder_path\n",
        "        self.file_names = [f for f in os.listdir(folder_path) if f.endswith('.png')]\n",
        "        self.transform = transform\n",
        "    def __len__(self):\n",
        "        return len(self.file_names)\n",
        "    def __getitem__(self, idx):\n",
        "        file_name = self.file_names[idx]\n",
        "        label = int(file_name.split('_')[-1].replace('.png', '')[0])\n",
        "        img_path = os.path.join(self.folder_path, file_name)\n",
        "        image = Image.open(img_path).convert('RGB')\n",
        "        if self.transform:\n",
        "            image = self.transform(image)\n",
        "        return image, label\n"
      ],
      "metadata": {
        "id": "Daqgx9xsAifK"
      },
      "execution_count": null,
      "outputs": []
    },
    {
      "cell_type": "code",
      "source": [
        "# STEP 5: Transforms & DataLoaders\n",
        "import torch\n",
        "from torchvision import transforms\n",
        "from torch.utils.data import DataLoader\n",
        "\n",
        "transform = transforms.Compose([\n",
        "    transforms.Resize((224, 224)),  # DenseNet121 input size\n",
        "    transforms.ToTensor(),\n",
        "    transforms.Normalize([0.5]*3, [0.5]*3)\n",
        "])\n",
        "\n",
        "train_dataset = HistopathologyDataset(\"/content/BCI_dataset/IHC/train\", transform)\n",
        "test_dataset = HistopathologyDataset(\"/content/BCI_dataset/IHC/test\", transform)\n",
        "\n",
        "train_loader = DataLoader(train_dataset, batch_size=32, shuffle=True)\n",
        "test_loader = DataLoader(test_dataset, batch_size=32)\n"
      ],
      "metadata": {
        "id": "-xd8ilgvAoRh"
      },
      "execution_count": null,
      "outputs": []
    },
    {
      "cell_type": "code",
      "source": [
        "# STEP 6: Import DenseNet121 and Setup Model\n",
        "import torchvision.models as models\n",
        "import torch.nn as nn\n",
        "device = torch.device(\"cuda\" if torch.cuda.is_available() else \"cpu\")\n",
        "\n",
        "model = models.densenet121(pretrained=True)\n",
        "model.classifier = nn.Linear(model.classifier.in_features, 4)  # 4 classes assumed\n",
        "model = model.to(device)"
      ],
      "metadata": {
        "id": "2oaU7jdkAtNq"
      },
      "execution_count": null,
      "outputs": []
    },
    {
      "cell_type": "code",
      "source": [
        "# STEP 7: Loss, Optimizer, Train\n",
        "import torch.optim as optim\n",
        "criterion = nn.CrossEntropyLoss()\n",
        "optimizer = optim.Adam(model.parameters(), lr=0.0001)\n",
        "epochs = 3\n",
        "for epoch in range(epochs):31+12+2000+\n",
        "    model.train()\n",
        "    running_loss = 0\n",
        "    for images, labels in train_loader:\n",
        "        images, labels = images.to(device), labels.to(device)\n",
        "        optimizer.zero_grad()\n",
        "        outputs = model(images)\n",
        "        loss = criterion(outputs, labels)\n",
        "        loss.backward()\n",
        "        optimizer.step()\n",
        "        running_loss += loss.item()\n",
        "    print(f\"Epoch {epoch+1}, Loss: {running_loss/len(train_loader):.4f}\")"
      ],
      "metadata": {
        "colab": {
          "base_uri": "https://localhost:8080/"
        },
        "id": "JnLvgldMAwZS",
        "outputId": "6be3f5dc-4262-49e7-e996-54244a91ed09"
      },
      "execution_count": null,
      "outputs": [
        {
          "output_type": "stream",
          "name": "stdout",
          "text": [
            "Epoch 1, Loss: 0.7127\n",
            "Epoch 2, Loss: 0.2974\n",
            "Epoch 3, Loss: 0.1729\n"
          ]
        }
      ]
    },
    {
      "cell_type": "code",
      "source": [],
      "metadata": {
        "id": "C1CiSLQs9C0Z"
      },
      "execution_count": null,
      "outputs": []
    },
    {
      "cell_type": "code",
      "source": [
        "# STEP 8: Evaluate\n",
        "model.eval()\n",
        "correct = 0\n",
        "total = 0\n",
        "with torch.no_grad():\n",
        "    for images, labels in test_loader:\n",
        "        images, labels = images.to(device), labels.to(device)\n",
        "        outputs = model(images)\n",
        "        _, predicted = torch.max(outputs, 1)\n",
        "        total += labels.size(0)\n",
        "        correct += (predicted == labels).sum().item()\n",
        "print(f\"✅ Test Accuracy: {100 * correct / total:.2f}%\")\n"
      ],
      "metadata": {
        "colab": {
          "base_uri": "https://localhost:8080/"
        },
        "id": "UZeIvpAcA38b",
        "outputId": "256c2ef3-eb44-4e27-b652-9dfaa77022b7"
      },
      "execution_count": null,
      "outputs": [
        {
          "output_type": "stream",
          "name": "stdout",
          "text": [
            "✅ Test Accuracy: 91.40%\n"
          ]
        }
      ]
    },
    {
      "cell_type": "code",
      "source": [
        "# STEP 9: Save Model\n",
        "torch.save(model.state_dict(), \"histopathology_densenet121.pth\")\n",
        "print(\"✅ Model saved as 'histopathology_densenet121.pth'\")"
      ],
      "metadata": {
        "colab": {
          "base_uri": "https://localhost:8080/"
        },
        "id": "j-j2HfS3A4r0",
        "outputId": "ee936cb9-3fb0-475d-f51f-a18a6cfc46d0"
      },
      "execution_count": null,
      "outputs": [
        {
          "output_type": "stream",
          "name": "stdout",
          "text": [
            "✅ Model saved as 'histopathology_densenet121.pth'\n"
          ]
        }
      ]
    },
    {
      "cell_type": "code",
      "source": [
        "! g i t clone <https://github.com/Shourov6/ML-lab>"
      ],
      "metadata": {
        "colab": {
          "base_uri": "https://localhost:8080/"
        },
        "id": "ccK82F4h9GPU",
        "outputId": "3bcb595a-3a38-4be9-bf12-3df45ce193dd"
      },
      "execution_count": 1,
      "outputs": [
        {
          "output_type": "stream",
          "name": "stdout",
          "text": [
            "/bin/bash: -c: line 1: syntax error near unexpected token `newline'\n",
            "/bin/bash: -c: line 1: ` g i t clone <https://github.com/Shourov6/ML-lab>'\n"
          ]
        }
      ]
    }
  ]
}