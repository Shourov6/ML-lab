{
  "nbformat": 4,
  "nbformat_minor": 0,
  "metadata": {
    "colab": {
      "provenance": []
    },
    "kernelspec": {
      "name": "python3",
      "display_name": "Python 3"
    },
    "language_info": {
      "name": "python"
    }
  },
  "cells": [
    {
      "cell_type": "code",
      "execution_count": 13,
      "metadata": {
        "id": "FvqWgux-vCs_"
      },
      "outputs": [],
      "source": [
        "import numpy as np\n",
        "import pandas as pd\n",
        "from collections import Counter\n",
        "from sklearn.datasets import load_iris, fetch_20newsgroups\n",
        "from sklearn.feature_extraction.text import TfidfVectorizer\n",
        "from sklearn.model_selection import train_test_split\n",
        "from sklearn.neighbors import KNeighborsClassifier"
      ]
    },
    {
      "cell_type": "code",
      "source": [
        "class CustomKNN:\n",
        "    def __init__(self, k=3):\n",
        "        self.k = k\n",
        "\n",
        "    def fit(self, X, y):\n",
        "        self.X_train = np.array(X)\n",
        "        self.y_train = np.array(y)\n",
        "\n",
        "    def predict(self, X):\n",
        "        predictions = [self._predict_single(x) for x in X]\n",
        "        return np.array(predictions)\n",
        "\n",
        "    def _predict_single(self, x):\n",
        "        distances = np.sqrt(np.sum((self.X_train - x) ** 2, axis=1))\n",
        "        k_indices = distances.argsort()[:self.k]\n",
        "        k_labels = self.y_train[k_indices]\n",
        "        most_common = Counter(k_labels).most_common(1)\n",
        "        return most_common[0][0]"
      ],
      "metadata": {
        "id": "lqCrwPNIwB55"
      },
      "execution_count": 14,
      "outputs": []
    },
    {
      "cell_type": "code",
      "source": [
        "def accuracy(y_true, y_pred):\n",
        "    return np.mean(y_true == y_pred)\n",
        "\n",
        "def confusion_matrix(y_true, y_pred):\n",
        "    classes = np.unique(np.concatenate((y_true, y_pred)))\n",
        "    cm = pd.DataFrame(0, index=classes, columns=classes)\n",
        "    for t, p in zip(y_true, y_pred):\n",
        "        cm.loc[t, p] += 1\n",
        "    return cm\n",
        "\n",
        "def precision_recall_f1(y_true, y_pred):\n",
        "    classes = np.unique(np.concatenate((y_true, y_pred)))\n",
        "    precisions, recalls, f1s = {}, {}, {}\n",
        "    for cls in classes:\n",
        "        tp = np.sum((y_pred == cls) & (y_true == cls))\n",
        "        fp = np.sum((y_pred == cls) & (y_true != cls))\n",
        "        fn = np.sum((y_pred != cls) & (y_true == cls))\n",
        "        precision = tp / (tp + fp) if (tp + fp) > 0 else 0\n",
        "        recall = tp / (tp + fn) if (tp + fn) > 0 else 0\n",
        "        f1 = 2 * precision * recall / (precision + recall) if (precision + recall) > 0 else 0\n",
        "        precisions[cls] = precision\n",
        "        recalls[cls] = recall\n",
        "        f1s[cls] = f1\n",
        "    return precisions, recalls, f1s"
      ],
      "metadata": {
        "id": "YhNnDRaLwEGI"
      },
      "execution_count": 15,
      "outputs": []
    },
    {
      "cell_type": "code",
      "source": [
        "def run_experiment(X, y, dataset_name=\"Dataset\"):\n",
        "    print(f\"\\n===== {dataset_name} =====\")\n",
        "    for split in [0.2, 0.3, 0.4]:\n",
        "        X_train, X_test, y_train, y_test = train_test_split(X, y, test_size=split, random_state=42, stratify=y)\n",
        "        best_acc, best_k = 0, 0\n",
        "\n",
        "        for k in range(1, 16):\n",
        "            model = CustomKNN(k=k)\n",
        "            model.fit(X_train, y_train)\n",
        "            preds = model.predict(X_test)\n",
        "\n",
        "            acc = accuracy(y_test, preds)\n",
        "            if acc > best_acc:\n",
        "                best_acc, best_k = acc, k\n",
        "                best_preds, best_split = preds, split\n",
        "\n",
        "        print(f\"\\nBest split {int((1-best_split)*100)}:{int(best_split*100)}, Best k={best_k}, Accuracy={best_acc:.4f}\")\n",
        "        cm = confusion_matrix(y_test, best_preds)\n",
        "        precisions, recalls, f1s = precision_recall_f1(y_test, best_preds)\n",
        "\n",
        "        print(\"Confusion Matrix:\\n\", cm)\n",
        "        print(\"Precision:\", precisions)\n",
        "        print(\"Recall:\", recalls)\n",
        "        print(\"F1-score:\", f1s)\n",
        "\n",
        "        sk_model = KNeighborsClassifier(n_neighbors=best_k)\n",
        "        sk_model.fit(X_train, y_train)\n",
        "        sk_preds = sk_model.predict(X_test)\n",
        "        sk_acc = accuracy(y_test, sk_preds)\n",
        "        print(f\"Sklearn Accuracy={sk_acc:.4f}\")"
      ],
      "metadata": {
        "id": "2nFvbN7gwHIC"
      },
      "execution_count": 16,
      "outputs": []
    },
    {
      "cell_type": "code",
      "source": [
        "iris = load_iris()\n",
        "X_iris, y_iris = iris.data, iris.target\n",
        "run_experiment(X_iris, y_iris, dataset_name=\"Iris Dataset\")"
      ],
      "metadata": {
        "colab": {
          "base_uri": "https://localhost:8080/"
        },
        "id": "2BF4Xxh9wJ7M",
        "outputId": "4a62db90-6b0c-4c62-854e-0552a6f03639"
      },
      "execution_count": 17,
      "outputs": [
        {
          "output_type": "stream",
          "name": "stdout",
          "text": [
            "\n",
            "===== Iris Dataset =====\n",
            "\n",
            "Best split 80:20, Best k=3, Accuracy=1.0000\n",
            "Confusion Matrix:\n",
            "     0   1   2\n",
            "0  10   0   0\n",
            "1   0  10   0\n",
            "2   0   0  10\n",
            "Precision: {np.int64(0): np.float64(1.0), np.int64(1): np.float64(1.0), np.int64(2): np.float64(1.0)}\n",
            "Recall: {np.int64(0): np.float64(1.0), np.int64(1): np.float64(1.0), np.int64(2): np.float64(1.0)}\n",
            "F1-score: {np.int64(0): np.float64(1.0), np.int64(1): np.float64(1.0), np.int64(2): np.float64(1.0)}\n",
            "Sklearn Accuracy=1.0000\n",
            "\n",
            "Best split 70:30, Best k=5, Accuracy=0.9778\n",
            "Confusion Matrix:\n",
            "     0   1   2\n",
            "0  15   0   0\n",
            "1   0  15   0\n",
            "2   0   1  14\n",
            "Precision: {np.int64(0): np.float64(1.0), np.int64(1): np.float64(0.9375), np.int64(2): np.float64(1.0)}\n",
            "Recall: {np.int64(0): np.float64(1.0), np.int64(1): np.float64(1.0), np.int64(2): np.float64(0.9333333333333333)}\n",
            "F1-score: {np.int64(0): np.float64(1.0), np.int64(1): np.float64(0.967741935483871), np.int64(2): np.float64(0.9655172413793104)}\n",
            "Sklearn Accuracy=0.9778\n",
            "\n",
            "Best split 60:40, Best k=3, Accuracy=0.9667\n",
            "Confusion Matrix:\n",
            "     0   1   2\n",
            "0  20   0   0\n",
            "1   0  20   0\n",
            "2   0   2  18\n",
            "Precision: {np.int64(0): np.float64(1.0), np.int64(1): np.float64(0.9090909090909091), np.int64(2): np.float64(1.0)}\n",
            "Recall: {np.int64(0): np.float64(1.0), np.int64(1): np.float64(1.0), np.int64(2): np.float64(0.9)}\n",
            "F1-score: {np.int64(0): np.float64(1.0), np.int64(1): np.float64(0.9523809523809523), np.int64(2): np.float64(0.9473684210526316)}\n",
            "Sklearn Accuracy=0.9667\n"
          ]
        }
      ]
    },
    {
      "cell_type": "code",
      "source": [
        "categories = ['sci.space', 'rec.sport.baseball']\n",
        "news = fetch_20newsgroups(subset='all', categories=categories, remove=('headers', 'footers', 'quotes'))\n",
        "vectorizer = TfidfVectorizer(max_features=1000)\n",
        "X_news = vectorizer.fit_transform(news.data).toarray()\n",
        "y_news = news.target\n",
        "run_experiment(X_news, y_news, dataset_name=\"News Dataset\")"
      ],
      "metadata": {
        "colab": {
          "base_uri": "https://localhost:8080/"
        },
        "id": "1FkTm_thwRXy",
        "outputId": "3c9e1be2-ce22-409e-be42-87b5ebcc5f02"
      },
      "execution_count": 18,
      "outputs": [
        {
          "output_type": "stream",
          "name": "stdout",
          "text": [
            "\n",
            "===== News Dataset =====\n",
            "\n",
            "Best split 80:20, Best k=9, Accuracy=0.5995\n",
            "Confusion Matrix:\n",
            "      0   1\n",
            "0  162  37\n",
            "1  122  76\n",
            "Precision: {np.int64(0): np.float64(0.5704225352112676), np.int64(1): np.float64(0.672566371681416)}\n",
            "Recall: {np.int64(0): np.float64(0.8140703517587939), np.int64(1): np.float64(0.3838383838383838)}\n",
            "F1-score: {np.int64(0): np.float64(0.670807453416149), np.int64(1): np.float64(0.48874598070739556)}\n",
            "Sklearn Accuracy=0.5617\n",
            "\n",
            "Best split 70:30, Best k=1, Accuracy=0.6538\n",
            "Confusion Matrix:\n",
            "      0    1\n",
            "0  148  151\n",
            "1   55  241\n",
            "Precision: {np.int64(0): np.float64(0.729064039408867), np.int64(1): np.float64(0.6147959183673469)}\n",
            "Recall: {np.int64(0): np.float64(0.49498327759197325), np.int64(1): np.float64(0.8141891891891891)}\n",
            "F1-score: {np.int64(0): np.float64(0.5896414342629481), np.int64(1): np.float64(0.7005813953488372)}\n",
            "Sklearn Accuracy=0.6118\n",
            "\n",
            "Best split 60:40, Best k=1, Accuracy=0.5712\n",
            "Confusion Matrix:\n",
            "      0    1\n",
            "0  302   96\n",
            "1  244  151\n",
            "Precision: {np.int64(0): np.float64(0.5531135531135531), np.int64(1): np.float64(0.611336032388664)}\n",
            "Recall: {np.int64(0): np.float64(0.7587939698492462), np.int64(1): np.float64(0.3822784810126582)}\n",
            "F1-score: {np.int64(0): np.float64(0.6398305084745762), np.int64(1): np.float64(0.470404984423676)}\n",
            "Sklearn Accuracy=0.6066\n"
          ]
        }
      ]
    }
  ]
}